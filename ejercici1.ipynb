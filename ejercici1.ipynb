{
  "nbformat": 4,
  "nbformat_minor": 0,
  "metadata": {
    "colab": {
      "provenance": [],
      "toc_visible": true,
      "authorship_tag": "ABX9TyM3ZJUclenWMRIdBlXsAj3N",
      "include_colab_link": true
    },
    "kernelspec": {
      "name": "python3",
      "display_name": "Python 3"
    },
    "language_info": {
      "name": "python"
    }
  },
  "cells": [
    {
      "cell_type": "markdown",
      "metadata": {
        "id": "view-in-github",
        "colab_type": "text"
      },
      "source": [
        "<a href=\"https://colab.research.google.com/github/felipepedraza22/ejerciciosbasicos_colab/blob/main/ejercici1.ipynb\" target=\"_parent\"><img src=\"https://colab.research.google.com/assets/colab-badge.svg\" alt=\"Open In Colab\"/></a>"
      ]
    },
    {
      "cell_type": "markdown",
      "source": [],
      "metadata": {
        "id": "ELY_btUYhzC6"
      }
    },
    {
      "cell_type": "markdown",
      "source": [
        "#Ejercicios basicos python\n",
        "1. Suma de dos numeros\n",
        "2. Potencia de un numero\n"
      ],
      "metadata": {
        "id": "t_uOo10Qh5Vw"
      }
    },
    {
      "cell_type": "code",
      "source": [],
      "metadata": {
        "id": "kwv7uckwkuum"
      },
      "execution_count": 2,
      "outputs": []
    },
    {
      "cell_type": "code",
      "source": [
        " # Suma de dos enteros\n",
        "print(\"--------------------------\")\n",
        "print(\"---Suma de dos numeros----\")\n",
        "print(\"--------------------------\")\n",
        "\n",
        "# Input\n",
        "x= int(input(\"Digite el valor de x: \"))\n",
        "y= int(input(\"Digite el valor de y: \"))\n",
        "\n",
        "# Processing \n",
        "z= x + y\n",
        "\n",
        "# output\n",
        "print(\"La suma de \" ,x, \"+\" ,y, \"es\",z)"
      ],
      "metadata": {
        "colab": {
          "base_uri": "https://localhost:8080/"
        },
        "id": "OOY0rQmWiSuq",
        "outputId": "28c5ff0c-fd53-4e9d-ddcc-f597d36fc133"
      },
      "execution_count": null,
      "outputs": [
        {
          "output_type": "stream",
          "name": "stdout",
          "text": [
            "--------------------------\n",
            "---Suma de dos numeros----\n",
            "--------------------------\n",
            "Digite el valor de x: 7\n",
            "Digite el valor de y: 3\n",
            "La suma de  7 + 3 es 10\n"
          ]
        }
      ]
    },
    {
      "cell_type": "code",
      "source": [
        " # Potencia de un numero\n",
        "print(\"---------------\")\n",
        "print(\"---Potencia----\")\n",
        "print(\"---------------\")\n",
        "\n",
        "# Input\n",
        "x= int(input(\"Digite el valor de x: \"))\n",
        "y= int(input(\"Digite el valor de y: \"))\n",
        "\n",
        "# Processing \n",
        "z= x **y\n",
        "\n",
        "# output\n",
        "print(x, \"elevado a la  \",y, \"es\",z)"
      ],
      "metadata": {
        "colab": {
          "base_uri": "https://localhost:8080/"
        },
        "outputId": "2d70d975-39bc-4e8d-ff02-2406fc71f773",
        "id": "ZtoIec8nlanp"
      },
      "execution_count": 3,
      "outputs": [
        {
          "output_type": "stream",
          "name": "stdout",
          "text": [
            "---------------\n",
            "---Potencia----\n",
            "---------------\n",
            "Digite el valor de x: 4\n",
            "Digite el valor de y: 3\n",
            "4 elevado a la   3 es 64\n"
          ]
        }
      ]
    }
  ]
}