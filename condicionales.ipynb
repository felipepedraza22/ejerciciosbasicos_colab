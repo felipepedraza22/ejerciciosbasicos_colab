{
  "nbformat": 4,
  "nbformat_minor": 0,
  "metadata": {
    "colab": {
      "provenance": [],
      "authorship_tag": "ABX9TyMcrAfu6IuF77kUmdw21aVx",
      "include_colab_link": true
    },
    "kernelspec": {
      "name": "python3",
      "display_name": "Python 3"
    },
    "language_info": {
      "name": "python"
    }
  },
  "cells": [
    {
      "cell_type": "markdown",
      "metadata": {
        "id": "view-in-github",
        "colab_type": "text"
      },
      "source": [
        "<a href=\"https://colab.research.google.com/github/felipepedraza22/ejerciciosbasicos_colab/blob/main/condicionales.ipynb\" target=\"_parent\"><img src=\"https://colab.research.google.com/assets/colab-badge.svg\" alt=\"Open In Colab\"/></a>"
      ]
    },
    {
      "cell_type": "code",
      "execution_count": null,
      "metadata": {
        "id": "73ZT4z5XpoUf"
      },
      "outputs": [],
      "source": [
        "# INstrucciones conicionales \n",
        "#if\n",
        "# if else\n",
        "\n",
        "\"\"\"Programa para \n",
        "calcular e imprima el código y la nota final de cada estudiante\"\"\"\n",
        "\n",
        "\n",
        "print(\"----------------------\")\n",
        "print(\"------NOTAS Y CODIGO FINAL-------\")\n",
        "print(\"----------------------\")\n",
        "\n",
        "# imput\n",
        "cod= int (input(\"Ingrese el codigo del estudiante: \"))\n",
        "if cod!=0:\n",
        "    Nota1 = float(input(\"Ingrese la nota de la evaluacion N.1: \"))\n",
        "    Nota2 = float(input(\"Ingrese la nota de la evaluacion N.2: \"))\n",
        "    Nota3 = float(input(\"Ingrese la nota de la evaluacion N.3: \"))\n",
        "    Nota4 = float(input(\"Ingrese la nota de la evaluacion N.4: \"))\n",
        "    Nota5 = float(input(\"Ingrese la nota de la evaluacion N.5: \"))\n",
        "\n",
        "\n",
        "else :\n",
        "    print(\"Final de los datos de entrada\")\n",
        "\n",
        "# Processing\n",
        "reprobados=0\n",
        "\n",
        "while cod != 0:\n",
        "    Nota_defenitiva = (Nota1 + Nota2 + Nota3 + Nota4 + Nota5)/5\n",
        "    print(\"El estudiante de código \" + str(cod) + \" obtuvo una nota definitiva de \" + str(Nota_defenitiva))\n",
        "    cod = int(input(\"Digite el código del estudiante: \")\n",
        "if cod!=0:\n",
        "    Nota1 = float(input(\"Ingrese la nota de la evaluacion N.1: \"))\n",
        "    Nota2 = float(input(\"Ingrese la nota de la evaluacion N.2: \"))\n",
        "    Nota3 = float(input(\"Ingrese la nota de la evaluacion N.3: \"))\n",
        "    Nota4 = float(input(\"Ingrese la nota de la evaluacion N.4: \"))\n",
        "    Nota5 = float(input(\"Ingrese la nota de la evaluacion N.5: \"))\n",
        "\n",
        "else:\n",
        "    print(\"Fin de los datos de entrada\")\n",
        "if Nota_defenitiva < 3:\n",
        "    print(\"reprobo\")\n",
        "    reprobados = reprobados +1\n",
        "\n",
        "#output\n",
        "print(str(reprobados)+ \"Reprobado la asignatura\")"
      ]
    },
    {
      "cell_type": "code",
      "source": [
        "#Programa para calcular la cantidad de numeros que hay en un rango numerico\"\"\"\n",
        "\n",
        "from re import A\n",
        "\n",
        "\n",
        "print(\"----------------------\")\n",
        "print(\"----Rango numerico----\")\n",
        "print(\"----------------------\")\n",
        "\n",
        "# input \n",
        "A=int(input(\"Digite el valor inicial de rango\"))\n",
        "B=int(input(\"Digite el valor final del rango\"))\n",
        "cant_num=0\n",
        "rango=A+1\n",
        "\n",
        "# processing\n",
        "if A>B:\n",
        "    print(\"El valor inicial no se puede ser mayor al valor final\")\n",
        "else:\n",
        "    while rango<B:\n",
        "        cant_num=cant_num+1\n",
        "        rango=rango+1\n",
        "    print(\" Entre \"+ str(A) +\" y\" +str(B)+ \" hay \" +str(cant_num)+ \" numeros. \")"
      ],
      "metadata": {
        "colab": {
          "base_uri": "https://localhost:8080/"
        },
        "id": "DNygDQ0rreW2",
        "outputId": "d8857d1f-7325-40fb-a3da-4052b819750c"
      },
      "execution_count": 3,
      "outputs": [
        {
          "output_type": "stream",
          "name": "stdout",
          "text": [
            "----------------------\n",
            "----Rango numerico----\n",
            "----------------------\n",
            "Digite el valor inicial de rango4\n",
            "Digite el valor final del rango3\n",
            "El valor inicial no se puede ser mayor al valor final\n"
          ]
        }
      ]
    },
    {
      "cell_type": "code",
      "source": [
        "\"\"\"costo agua\"\"\"\n",
        "\n",
        "print(\"-----------------------\")\n",
        "print(\"---metros gastados-----\")\n",
        "print(\"-----------------------\")\n",
        "\n",
        "# input \n",
        "metros_gastados=float(input(\" Ingrese los metros gastados \"))\n",
        "\n",
        "\n",
        "# processing\n",
        "if metros_gastados<=50:\n",
        "    print(\" ES igual a 10000\")\n",
        "elif metros_gastados<=200:\n",
        "    costo_agua=10000+2000*(metros_gastados-50)\n",
        "    print(costo_agua)\n",
        "elif metros_gastados>200:\n",
        "    costo_agua=10000+3000*(metros_gastados-50)\n",
        "    print( costo_agua)"
      ],
      "metadata": {
        "id": "sNs5Wm6Ws046"
      },
      "execution_count": null,
      "outputs": []
    }
  ]
}